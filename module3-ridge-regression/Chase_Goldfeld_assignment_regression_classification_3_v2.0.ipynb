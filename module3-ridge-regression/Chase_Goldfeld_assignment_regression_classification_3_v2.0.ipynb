{
  "nbformat": 4,
  "nbformat_minor": 0,
  "metadata": {
    "colab": {
      "name": "Chase_Goldfeld_assignment_regression_classification_3.ipynb",
      "provenance": [],
      "collapsed_sections": [],
      "include_colab_link": true
    },
    "kernelspec": {
      "display_name": "Python 3",
      "language": "python",
      "name": "python3"
    },
    "language_info": {
      "codemirror_mode": {
        "name": "ipython",
        "version": 3
      },
      "file_extension": ".py",
      "mimetype": "text/x-python",
      "name": "python",
      "nbconvert_exporter": "python",
      "pygments_lexer": "ipython3",
      "version": "3.7.3"
    }
  },
  "cells": [
    {
      "cell_type": "markdown",
      "metadata": {
        "id": "view-in-github",
        "colab_type": "text"
      },
      "source": [
        "<a href=\"https://colab.research.google.com/github/AuFeld/DS-Unit-2-Linear-Models/blob/master/module3-ridge-regression/Chase_Goldfeld_assignment_regression_classification_3_v2.0.ipynb\" target=\"_parent\"><img src=\"https://colab.research.google.com/assets/colab-badge.svg\" alt=\"Open In Colab\"/></a>"
      ]
    },
    {
      "cell_type": "markdown",
      "metadata": {
        "id": "81nx1FAaWuAd",
        "colab_type": "text"
      },
      "source": [
        "Lambda School Data Science\n",
        "\n",
        "*Unit 2, Sprint 1, Module 3*\n",
        "\n",
        "---"
      ]
    },
    {
      "cell_type": "markdown",
      "metadata": {
        "colab_type": "text",
        "id": "7IXUfiQ2UKj6"
      },
      "source": [
        "# Ridge Regression\n",
        "\n",
        "## Assignment\n",
        "\n",
        "We're going back to our other **New York City** real estate dataset. Instead of predicting apartment rents, you'll predict property sales prices.\n",
        "\n",
        "But not just for condos in Tribeca...\n",
        "\n",
        "- [ ] Use a subset of the data where `BUILDING_CLASS_CATEGORY` == `'01 ONE FAMILY DWELLINGS'` and the sale price was more than 100 thousand and less than 2 million.\n",
        "- [ ] Do train/test split. Use data from January — March 2019 to train. Use data from April 2019 to test.\n",
        "- [ ] Do one-hot encoding of categorical features.\n",
        "- [ ] Do feature selection with `SelectKBest`.\n",
        "- [ ] Fit a ridge regression model with multiple features. Use the `normalize=True` parameter (or do [feature scaling](https://scikit-learn.org/stable/modules/preprocessing.html) beforehand — use the scaler's `fit_transform` method with the train set, and the scaler's `transform` method with the test set)\n",
        "- [ ] Get mean absolute error for the test set.\n",
        "- [ ] As always, commit your notebook to your fork of the GitHub repo.\n",
        "\n",
        "The [NYC Department of Finance](https://www1.nyc.gov/site/finance/taxes/property-rolling-sales-data.page) has a glossary of property sales terms and NYC Building Class Code Descriptions. The data comes from the [NYC OpenData](https://data.cityofnewyork.us/browse?q=NYC%20calendar%20sales) portal.\n",
        "\n",
        "\n",
        "## Stretch Goals\n",
        "\n",
        "Don't worry, you aren't expected to do all these stretch goals! These are just ideas to consider and choose from.\n",
        "\n",
        "- [ ] Add your own stretch goal(s) !\n",
        "- [ ] Instead of `Ridge`, try `LinearRegression`. Depending on how many features you select, your errors will probably blow up! 💥\n",
        "- [ ] Instead of `Ridge`, try [`RidgeCV`](https://scikit-learn.org/stable/modules/generated/sklearn.linear_model.RidgeCV.html).\n",
        "- [ ] Learn more about feature selection:\n",
        "    - [\"Permutation importance\"](https://www.kaggle.com/dansbecker/permutation-importance)\n",
        "    - [scikit-learn's User Guide for Feature Selection](https://scikit-learn.org/stable/modules/feature_selection.html)\n",
        "    - [mlxtend](http://rasbt.github.io/mlxtend/) library\n",
        "    - scikit-learn-contrib libraries: [boruta_py](https://github.com/scikit-learn-contrib/boruta_py) & [stability-selection](https://github.com/scikit-learn-contrib/stability-selection)\n",
        "    - [_Feature Engineering and Selection_](http://www.feat.engineering/) by Kuhn & Johnson.\n",
        "- [ ] Try [statsmodels](https://www.statsmodels.org/stable/index.html) if you’re interested in more inferential statistical approach to linear regression and feature selection, looking at p values and 95% confidence intervals for the coefficients.\n",
        "- [ ] Read [_An Introduction to Statistical Learning_](http://faculty.marshall.usc.edu/gareth-james/ISL/ISLR%20Seventh%20Printing.pdf), Chapters 1-3, for more math & theory, but in an accessible, readable way.\n",
        "- [ ] Try [scikit-learn pipelines](https://scikit-learn.org/stable/modules/compose.html)."
      ]
    },
    {
      "cell_type": "code",
      "metadata": {
        "colab_type": "code",
        "id": "o9eSnDYhUGD7",
        "colab": {}
      },
      "source": [
        "%%capture\n",
        "import sys\n",
        "\n",
        "# If you're on Colab:\n",
        "if 'google.colab' in sys.modules:\n",
        "    DATA_PATH = 'https://raw.githubusercontent.com/LambdaSchool/DS-Unit-2-Applied-Modeling/master/data/'\n",
        "    !pip install category_encoders==2.*\n",
        "\n",
        "# If you're working locally:\n",
        "else:\n",
        "    DATA_PATH = '../data/'\n",
        "    \n",
        "# Ignore this Numpy warning when using Plotly Express:\n",
        "# FutureWarning: Method .ptp is deprecated and will be removed in a future version. Use numpy.ptp instead.\n",
        "import warnings\n",
        "warnings.filterwarnings(action='ignore', category=FutureWarning, module='numpy')"
      ],
      "execution_count": 0,
      "outputs": []
    },
    {
      "cell_type": "code",
      "metadata": {
        "colab_type": "code",
        "id": "QJBD4ruICm1m",
        "colab": {}
      },
      "source": [
        "import pandas as pd\n",
        "import pandas_profiling\n",
        "\n",
        "# Read New York City property sales data\n",
        "df = pd.read_csv(DATA_PATH+'condos/NYC_Citywide_Rolling_Calendar_Sales.csv')\n",
        "\n",
        "# Change column names: replace spaces with underscores\n",
        "df.columns = [col.replace(' ', '_') for col in df]\n",
        "\n",
        "# SALE_PRICE was read as strings.\n",
        "# Remove symbols, convert to integer\n",
        "df['SALE_PRICE'] = (\n",
        "    df['SALE_PRICE']\n",
        "    .str.replace('$','')\n",
        "    .str.replace('-','')\n",
        "    .str.replace(',','')\n",
        "    .astype(int)\n",
        ")"
      ],
      "execution_count": 0,
      "outputs": []
    },
    {
      "cell_type": "code",
      "metadata": {
        "id": "7LhVuTMRWuAm",
        "colab_type": "code",
        "colab": {}
      },
      "source": [
        "# BOROUGH is a numeric column, but arguably should be a categorical feature,\n",
        "# so convert it from a number to a string\n",
        "df['BOROUGH'] = df['BOROUGH'].astype(str)"
      ],
      "execution_count": 0,
      "outputs": []
    },
    {
      "cell_type": "code",
      "metadata": {
        "id": "YuiCYK73WuAq",
        "colab_type": "code",
        "colab": {}
      },
      "source": [
        "# Reduce cardinality for NEIGHBORHOOD feature\n",
        "\n",
        "# Get a list of the top 10 neighborhoods\n",
        "top10 = df['NEIGHBORHOOD'].value_counts()[:10].index\n",
        "\n",
        "# At locations where the neighborhood is NOT in the top 10, \n",
        "# replace the neighborhood with 'OTHER'\n",
        "df.loc[~df['NEIGHBORHOOD'].isin(top10), 'NEIGHBORHOOD'] = 'OTHER'"
      ],
      "execution_count": 0,
      "outputs": []
    },
    {
      "cell_type": "code",
      "metadata": {
        "id": "QR83URxAWuAs",
        "colab_type": "code",
        "colab": {}
      },
      "source": [
        "# import tools\n",
        "\n",
        "import numpy as np\n",
        "import category_encoders as ce \n",
        "from sklearn.feature_selection import SelectKBest, f_regression\n",
        "from sklearn.linear_model import LinearRegression\n",
        "from sklearn.metrics import mean_absolute_error\n",
        "from sklearn.linear_model import RidgeCV"
      ],
      "execution_count": 0,
      "outputs": []
    },
    {
      "cell_type": "code",
      "metadata": {
        "id": "Ko73qCfCtX7V",
        "colab_type": "code",
        "colab": {}
      },
      "source": [
        "# check data for nan's "
      ],
      "execution_count": 0,
      "outputs": []
    },
    {
      "cell_type": "code",
      "metadata": {
        "id": "1AYNnhWz_gxW",
        "colab_type": "code",
        "outputId": "0b8c7163-fa85-40ef-d907-ca0ca640536c",
        "colab": {
          "base_uri": "https://localhost:8080/",
          "height": 445
        }
      },
      "source": [
        "df.head()"
      ],
      "execution_count": 36,
      "outputs": [
        {
          "output_type": "execute_result",
          "data": {
            "text/html": [
              "<div>\n",
              "<style scoped>\n",
              "    .dataframe tbody tr th:only-of-type {\n",
              "        vertical-align: middle;\n",
              "    }\n",
              "\n",
              "    .dataframe tbody tr th {\n",
              "        vertical-align: top;\n",
              "    }\n",
              "\n",
              "    .dataframe thead th {\n",
              "        text-align: right;\n",
              "    }\n",
              "</style>\n",
              "<table border=\"1\" class=\"dataframe\">\n",
              "  <thead>\n",
              "    <tr style=\"text-align: right;\">\n",
              "      <th></th>\n",
              "      <th>BOROUGH</th>\n",
              "      <th>NEIGHBORHOOD</th>\n",
              "      <th>BUILDING_CLASS_CATEGORY</th>\n",
              "      <th>TAX_CLASS_AT_PRESENT</th>\n",
              "      <th>BLOCK</th>\n",
              "      <th>LOT</th>\n",
              "      <th>EASE-MENT</th>\n",
              "      <th>BUILDING_CLASS_AT_PRESENT</th>\n",
              "      <th>ADDRESS</th>\n",
              "      <th>APARTMENT_NUMBER</th>\n",
              "      <th>ZIP_CODE</th>\n",
              "      <th>RESIDENTIAL_UNITS</th>\n",
              "      <th>COMMERCIAL_UNITS</th>\n",
              "      <th>TOTAL_UNITS</th>\n",
              "      <th>LAND_SQUARE_FEET</th>\n",
              "      <th>GROSS_SQUARE_FEET</th>\n",
              "      <th>YEAR_BUILT</th>\n",
              "      <th>TAX_CLASS_AT_TIME_OF_SALE</th>\n",
              "      <th>BUILDING_CLASS_AT_TIME_OF_SALE</th>\n",
              "      <th>SALE_PRICE</th>\n",
              "      <th>SALE_DATE</th>\n",
              "    </tr>\n",
              "  </thead>\n",
              "  <tbody>\n",
              "    <tr>\n",
              "      <th>0</th>\n",
              "      <td>1</td>\n",
              "      <td>OTHER</td>\n",
              "      <td>13 CONDOS - ELEVATOR APARTMENTS</td>\n",
              "      <td>2</td>\n",
              "      <td>716</td>\n",
              "      <td>1246</td>\n",
              "      <td>NaN</td>\n",
              "      <td>R4</td>\n",
              "      <td>447 WEST 18TH STREET, PH12A</td>\n",
              "      <td>PH12A</td>\n",
              "      <td>10011.0</td>\n",
              "      <td>1.0</td>\n",
              "      <td>0.0</td>\n",
              "      <td>1.0</td>\n",
              "      <td>10,733</td>\n",
              "      <td>1979.0</td>\n",
              "      <td>2007.0</td>\n",
              "      <td>2</td>\n",
              "      <td>R4</td>\n",
              "      <td>0</td>\n",
              "      <td>01/01/2019</td>\n",
              "    </tr>\n",
              "    <tr>\n",
              "      <th>1</th>\n",
              "      <td>1</td>\n",
              "      <td>OTHER</td>\n",
              "      <td>21 OFFICE BUILDINGS</td>\n",
              "      <td>4</td>\n",
              "      <td>812</td>\n",
              "      <td>68</td>\n",
              "      <td>NaN</td>\n",
              "      <td>O5</td>\n",
              "      <td>144 WEST 37TH STREET</td>\n",
              "      <td>NaN</td>\n",
              "      <td>10018.0</td>\n",
              "      <td>0.0</td>\n",
              "      <td>6.0</td>\n",
              "      <td>6.0</td>\n",
              "      <td>2,962</td>\n",
              "      <td>15435.0</td>\n",
              "      <td>1920.0</td>\n",
              "      <td>4</td>\n",
              "      <td>O5</td>\n",
              "      <td>0</td>\n",
              "      <td>01/01/2019</td>\n",
              "    </tr>\n",
              "    <tr>\n",
              "      <th>2</th>\n",
              "      <td>1</td>\n",
              "      <td>OTHER</td>\n",
              "      <td>21 OFFICE BUILDINGS</td>\n",
              "      <td>4</td>\n",
              "      <td>839</td>\n",
              "      <td>69</td>\n",
              "      <td>NaN</td>\n",
              "      <td>O5</td>\n",
              "      <td>40 WEST 38TH STREET</td>\n",
              "      <td>NaN</td>\n",
              "      <td>10018.0</td>\n",
              "      <td>0.0</td>\n",
              "      <td>7.0</td>\n",
              "      <td>7.0</td>\n",
              "      <td>2,074</td>\n",
              "      <td>11332.0</td>\n",
              "      <td>1930.0</td>\n",
              "      <td>4</td>\n",
              "      <td>O5</td>\n",
              "      <td>0</td>\n",
              "      <td>01/01/2019</td>\n",
              "    </tr>\n",
              "    <tr>\n",
              "      <th>3</th>\n",
              "      <td>1</td>\n",
              "      <td>OTHER</td>\n",
              "      <td>13 CONDOS - ELEVATOR APARTMENTS</td>\n",
              "      <td>2</td>\n",
              "      <td>592</td>\n",
              "      <td>1041</td>\n",
              "      <td>NaN</td>\n",
              "      <td>R4</td>\n",
              "      <td>1 SHERIDAN SQUARE, 8C</td>\n",
              "      <td>8C</td>\n",
              "      <td>10014.0</td>\n",
              "      <td>1.0</td>\n",
              "      <td>0.0</td>\n",
              "      <td>1.0</td>\n",
              "      <td>0</td>\n",
              "      <td>500.0</td>\n",
              "      <td>0.0</td>\n",
              "      <td>2</td>\n",
              "      <td>R4</td>\n",
              "      <td>0</td>\n",
              "      <td>01/01/2019</td>\n",
              "    </tr>\n",
              "    <tr>\n",
              "      <th>4</th>\n",
              "      <td>1</td>\n",
              "      <td>UPPER EAST SIDE (59-79)</td>\n",
              "      <td>15 CONDOS - 2-10 UNIT RESIDENTIAL</td>\n",
              "      <td>2C</td>\n",
              "      <td>1379</td>\n",
              "      <td>1402</td>\n",
              "      <td>NaN</td>\n",
              "      <td>R1</td>\n",
              "      <td>20 EAST 65TH STREET, B</td>\n",
              "      <td>B</td>\n",
              "      <td>10065.0</td>\n",
              "      <td>1.0</td>\n",
              "      <td>0.0</td>\n",
              "      <td>1.0</td>\n",
              "      <td>0</td>\n",
              "      <td>6406.0</td>\n",
              "      <td>0.0</td>\n",
              "      <td>2</td>\n",
              "      <td>R1</td>\n",
              "      <td>0</td>\n",
              "      <td>01/01/2019</td>\n",
              "    </tr>\n",
              "  </tbody>\n",
              "</table>\n",
              "</div>"
            ],
            "text/plain": [
              "  BOROUGH             NEIGHBORHOOD  ... SALE_PRICE   SALE_DATE\n",
              "0       1                    OTHER  ...          0  01/01/2019\n",
              "1       1                    OTHER  ...          0  01/01/2019\n",
              "2       1                    OTHER  ...          0  01/01/2019\n",
              "3       1                    OTHER  ...          0  01/01/2019\n",
              "4       1  UPPER EAST SIDE (59-79)  ...          0  01/01/2019\n",
              "\n",
              "[5 rows x 21 columns]"
            ]
          },
          "metadata": {
            "tags": []
          },
          "execution_count": 36
        }
      ]
    },
    {
      "cell_type": "code",
      "metadata": {
        "id": "bK-Va4xymcrl",
        "colab_type": "code",
        "colab": {}
      },
      "source": [
        "df.drop(['EASE-MENT'], inplace=True, axis=1)"
      ],
      "execution_count": 0,
      "outputs": []
    },
    {
      "cell_type": "code",
      "metadata": {
        "id": "_zLs_JWLqONq",
        "colab_type": "code",
        "colab": {}
      },
      "source": [
        "df[df==np.inf]=np.nan\n",
        "df.fillna(df.mean(), inplace=True)"
      ],
      "execution_count": 0,
      "outputs": []
    },
    {
      "cell_type": "code",
      "metadata": {
        "id": "ZwES6jllter4",
        "colab_type": "code",
        "outputId": "3a2af156-8042-429a-eb6e-dcb6d332bfc1",
        "colab": {
          "base_uri": "https://localhost:8080/",
          "height": 374
        }
      },
      "source": [
        "df.isnull().sum()"
      ],
      "execution_count": 39,
      "outputs": [
        {
          "output_type": "execute_result",
          "data": {
            "text/plain": [
              "BOROUGH                               0\n",
              "NEIGHBORHOOD                          0\n",
              "BUILDING_CLASS_CATEGORY               0\n",
              "TAX_CLASS_AT_PRESENT                  1\n",
              "BLOCK                                 0\n",
              "LOT                                   0\n",
              "BUILDING_CLASS_AT_PRESENT             1\n",
              "ADDRESS                               0\n",
              "APARTMENT_NUMBER                  17839\n",
              "ZIP_CODE                              0\n",
              "RESIDENTIAL_UNITS                     0\n",
              "COMMERCIAL_UNITS                      0\n",
              "TOTAL_UNITS                           0\n",
              "LAND_SQUARE_FEET                     53\n",
              "GROSS_SQUARE_FEET                     0\n",
              "YEAR_BUILT                            0\n",
              "TAX_CLASS_AT_TIME_OF_SALE             0\n",
              "BUILDING_CLASS_AT_TIME_OF_SALE        0\n",
              "SALE_PRICE                            0\n",
              "SALE_DATE                             0\n",
              "dtype: int64"
            ]
          },
          "metadata": {
            "tags": []
          },
          "execution_count": 39
        }
      ]
    },
    {
      "cell_type": "code",
      "metadata": {
        "id": "UvXqRa5soNao",
        "colab_type": "code",
        "colab": {}
      },
      "source": [
        "# Objective 1: Use a subset of the data where BUILDING_CLASS_CATEGORY == '01 ONE FAMILY DWELLINGS' and the sale price was more than 100 thousand and less than 2 million."
      ],
      "execution_count": 0,
      "outputs": []
    },
    {
      "cell_type": "code",
      "metadata": {
        "id": "VwLO8vd1EE-x",
        "colab_type": "code",
        "colab": {}
      },
      "source": [
        "df2 = df[(df['BUILDING_CLASS_CATEGORY'] == '01 ONE FAMILY DWELLINGS') & (df['SALE_PRICE'] > 100000) & (df['SALE_PRICE'] < 2000000)] \n"
      ],
      "execution_count": 0,
      "outputs": []
    },
    {
      "cell_type": "code",
      "metadata": {
        "id": "wOa_DMbj_G0R",
        "colab_type": "code",
        "colab": {
          "base_uri": "https://localhost:8080/",
          "height": 643
        },
        "outputId": "c5a9cd54-324a-4350-d689-b37e9d4ea6cb"
      },
      "source": [
        "df2"
      ],
      "execution_count": 42,
      "outputs": [
        {
          "output_type": "execute_result",
          "data": {
            "text/html": [
              "<div>\n",
              "<style scoped>\n",
              "    .dataframe tbody tr th:only-of-type {\n",
              "        vertical-align: middle;\n",
              "    }\n",
              "\n",
              "    .dataframe tbody tr th {\n",
              "        vertical-align: top;\n",
              "    }\n",
              "\n",
              "    .dataframe thead th {\n",
              "        text-align: right;\n",
              "    }\n",
              "</style>\n",
              "<table border=\"1\" class=\"dataframe\">\n",
              "  <thead>\n",
              "    <tr style=\"text-align: right;\">\n",
              "      <th></th>\n",
              "      <th>BOROUGH</th>\n",
              "      <th>NEIGHBORHOOD</th>\n",
              "      <th>BUILDING_CLASS_CATEGORY</th>\n",
              "      <th>TAX_CLASS_AT_PRESENT</th>\n",
              "      <th>BLOCK</th>\n",
              "      <th>LOT</th>\n",
              "      <th>BUILDING_CLASS_AT_PRESENT</th>\n",
              "      <th>ADDRESS</th>\n",
              "      <th>APARTMENT_NUMBER</th>\n",
              "      <th>ZIP_CODE</th>\n",
              "      <th>RESIDENTIAL_UNITS</th>\n",
              "      <th>COMMERCIAL_UNITS</th>\n",
              "      <th>TOTAL_UNITS</th>\n",
              "      <th>LAND_SQUARE_FEET</th>\n",
              "      <th>GROSS_SQUARE_FEET</th>\n",
              "      <th>YEAR_BUILT</th>\n",
              "      <th>TAX_CLASS_AT_TIME_OF_SALE</th>\n",
              "      <th>BUILDING_CLASS_AT_TIME_OF_SALE</th>\n",
              "      <th>SALE_PRICE</th>\n",
              "      <th>SALE_DATE</th>\n",
              "    </tr>\n",
              "  </thead>\n",
              "  <tbody>\n",
              "    <tr>\n",
              "      <th>44</th>\n",
              "      <td>3</td>\n",
              "      <td>OTHER</td>\n",
              "      <td>01 ONE FAMILY DWELLINGS</td>\n",
              "      <td>1</td>\n",
              "      <td>5495</td>\n",
              "      <td>801</td>\n",
              "      <td>A9</td>\n",
              "      <td>4832 BAY PARKWAY</td>\n",
              "      <td>NaN</td>\n",
              "      <td>11230.0</td>\n",
              "      <td>1.0</td>\n",
              "      <td>0.0</td>\n",
              "      <td>1.0</td>\n",
              "      <td>6,800</td>\n",
              "      <td>1325.0</td>\n",
              "      <td>1930.0</td>\n",
              "      <td>1</td>\n",
              "      <td>A9</td>\n",
              "      <td>550000</td>\n",
              "      <td>01/01/2019</td>\n",
              "    </tr>\n",
              "    <tr>\n",
              "      <th>61</th>\n",
              "      <td>4</td>\n",
              "      <td>OTHER</td>\n",
              "      <td>01 ONE FAMILY DWELLINGS</td>\n",
              "      <td>1</td>\n",
              "      <td>7918</td>\n",
              "      <td>72</td>\n",
              "      <td>A1</td>\n",
              "      <td>80-23 232ND STREET</td>\n",
              "      <td>NaN</td>\n",
              "      <td>11427.0</td>\n",
              "      <td>1.0</td>\n",
              "      <td>0.0</td>\n",
              "      <td>1.0</td>\n",
              "      <td>4,000</td>\n",
              "      <td>2001.0</td>\n",
              "      <td>1940.0</td>\n",
              "      <td>1</td>\n",
              "      <td>A1</td>\n",
              "      <td>200000</td>\n",
              "      <td>01/01/2019</td>\n",
              "    </tr>\n",
              "    <tr>\n",
              "      <th>78</th>\n",
              "      <td>2</td>\n",
              "      <td>OTHER</td>\n",
              "      <td>01 ONE FAMILY DWELLINGS</td>\n",
              "      <td>1</td>\n",
              "      <td>4210</td>\n",
              "      <td>19</td>\n",
              "      <td>A1</td>\n",
              "      <td>1260 RHINELANDER AVE</td>\n",
              "      <td>NaN</td>\n",
              "      <td>10461.0</td>\n",
              "      <td>1.0</td>\n",
              "      <td>0.0</td>\n",
              "      <td>1.0</td>\n",
              "      <td>3,500</td>\n",
              "      <td>2043.0</td>\n",
              "      <td>1925.0</td>\n",
              "      <td>1</td>\n",
              "      <td>A1</td>\n",
              "      <td>810000</td>\n",
              "      <td>01/02/2019</td>\n",
              "    </tr>\n",
              "    <tr>\n",
              "      <th>108</th>\n",
              "      <td>3</td>\n",
              "      <td>OTHER</td>\n",
              "      <td>01 ONE FAMILY DWELLINGS</td>\n",
              "      <td>1</td>\n",
              "      <td>5212</td>\n",
              "      <td>69</td>\n",
              "      <td>A1</td>\n",
              "      <td>469 E 25TH ST</td>\n",
              "      <td>NaN</td>\n",
              "      <td>11226.0</td>\n",
              "      <td>1.0</td>\n",
              "      <td>0.0</td>\n",
              "      <td>1.0</td>\n",
              "      <td>4,000</td>\n",
              "      <td>2680.0</td>\n",
              "      <td>1899.0</td>\n",
              "      <td>1</td>\n",
              "      <td>A1</td>\n",
              "      <td>125000</td>\n",
              "      <td>01/02/2019</td>\n",
              "    </tr>\n",
              "    <tr>\n",
              "      <th>111</th>\n",
              "      <td>3</td>\n",
              "      <td>OTHER</td>\n",
              "      <td>01 ONE FAMILY DWELLINGS</td>\n",
              "      <td>1</td>\n",
              "      <td>7930</td>\n",
              "      <td>121</td>\n",
              "      <td>A5</td>\n",
              "      <td>5521 WHITTY LANE</td>\n",
              "      <td>NaN</td>\n",
              "      <td>11203.0</td>\n",
              "      <td>1.0</td>\n",
              "      <td>0.0</td>\n",
              "      <td>1.0</td>\n",
              "      <td>1,710</td>\n",
              "      <td>1872.0</td>\n",
              "      <td>1940.0</td>\n",
              "      <td>1</td>\n",
              "      <td>A5</td>\n",
              "      <td>620000</td>\n",
              "      <td>01/02/2019</td>\n",
              "    </tr>\n",
              "    <tr>\n",
              "      <th>...</th>\n",
              "      <td>...</td>\n",
              "      <td>...</td>\n",
              "      <td>...</td>\n",
              "      <td>...</td>\n",
              "      <td>...</td>\n",
              "      <td>...</td>\n",
              "      <td>...</td>\n",
              "      <td>...</td>\n",
              "      <td>...</td>\n",
              "      <td>...</td>\n",
              "      <td>...</td>\n",
              "      <td>...</td>\n",
              "      <td>...</td>\n",
              "      <td>...</td>\n",
              "      <td>...</td>\n",
              "      <td>...</td>\n",
              "      <td>...</td>\n",
              "      <td>...</td>\n",
              "      <td>...</td>\n",
              "      <td>...</td>\n",
              "    </tr>\n",
              "    <tr>\n",
              "      <th>23029</th>\n",
              "      <td>4</td>\n",
              "      <td>OTHER</td>\n",
              "      <td>01 ONE FAMILY DWELLINGS</td>\n",
              "      <td>1</td>\n",
              "      <td>13215</td>\n",
              "      <td>3</td>\n",
              "      <td>A2</td>\n",
              "      <td>244-15 135 AVENUE</td>\n",
              "      <td>NaN</td>\n",
              "      <td>11422.0</td>\n",
              "      <td>1.0</td>\n",
              "      <td>0.0</td>\n",
              "      <td>1.0</td>\n",
              "      <td>3,300</td>\n",
              "      <td>1478.0</td>\n",
              "      <td>1925.0</td>\n",
              "      <td>1</td>\n",
              "      <td>A2</td>\n",
              "      <td>635000</td>\n",
              "      <td>04/30/2019</td>\n",
              "    </tr>\n",
              "    <tr>\n",
              "      <th>23031</th>\n",
              "      <td>4</td>\n",
              "      <td>OTHER</td>\n",
              "      <td>01 ONE FAMILY DWELLINGS</td>\n",
              "      <td>1</td>\n",
              "      <td>11612</td>\n",
              "      <td>73</td>\n",
              "      <td>A1</td>\n",
              "      <td>10919 132ND STREET</td>\n",
              "      <td>NaN</td>\n",
              "      <td>11420.0</td>\n",
              "      <td>1.0</td>\n",
              "      <td>0.0</td>\n",
              "      <td>1.0</td>\n",
              "      <td>2,400</td>\n",
              "      <td>1280.0</td>\n",
              "      <td>1930.0</td>\n",
              "      <td>1</td>\n",
              "      <td>A1</td>\n",
              "      <td>514000</td>\n",
              "      <td>04/30/2019</td>\n",
              "    </tr>\n",
              "    <tr>\n",
              "      <th>23032</th>\n",
              "      <td>4</td>\n",
              "      <td>OTHER</td>\n",
              "      <td>01 ONE FAMILY DWELLINGS</td>\n",
              "      <td>1</td>\n",
              "      <td>11808</td>\n",
              "      <td>50</td>\n",
              "      <td>A0</td>\n",
              "      <td>135-24 122ND STREET</td>\n",
              "      <td>NaN</td>\n",
              "      <td>11420.0</td>\n",
              "      <td>1.0</td>\n",
              "      <td>0.0</td>\n",
              "      <td>1.0</td>\n",
              "      <td>4,000</td>\n",
              "      <td>1333.0</td>\n",
              "      <td>1945.0</td>\n",
              "      <td>1</td>\n",
              "      <td>A0</td>\n",
              "      <td>635000</td>\n",
              "      <td>04/30/2019</td>\n",
              "    </tr>\n",
              "    <tr>\n",
              "      <th>23033</th>\n",
              "      <td>4</td>\n",
              "      <td>OTHER</td>\n",
              "      <td>01 ONE FAMILY DWELLINGS</td>\n",
              "      <td>1</td>\n",
              "      <td>12295</td>\n",
              "      <td>23</td>\n",
              "      <td>A1</td>\n",
              "      <td>134-34 157TH STREET</td>\n",
              "      <td>NaN</td>\n",
              "      <td>11434.0</td>\n",
              "      <td>1.0</td>\n",
              "      <td>0.0</td>\n",
              "      <td>1.0</td>\n",
              "      <td>2,500</td>\n",
              "      <td>1020.0</td>\n",
              "      <td>1935.0</td>\n",
              "      <td>1</td>\n",
              "      <td>A1</td>\n",
              "      <td>545000</td>\n",
              "      <td>04/30/2019</td>\n",
              "    </tr>\n",
              "    <tr>\n",
              "      <th>23035</th>\n",
              "      <td>4</td>\n",
              "      <td>OTHER</td>\n",
              "      <td>01 ONE FAMILY DWELLINGS</td>\n",
              "      <td>1</td>\n",
              "      <td>10965</td>\n",
              "      <td>276</td>\n",
              "      <td>A5</td>\n",
              "      <td>111-17 FRANCIS LEWIS BLVD</td>\n",
              "      <td>NaN</td>\n",
              "      <td>11429.0</td>\n",
              "      <td>1.0</td>\n",
              "      <td>0.0</td>\n",
              "      <td>1.0</td>\n",
              "      <td>1,800</td>\n",
              "      <td>1224.0</td>\n",
              "      <td>1945.0</td>\n",
              "      <td>1</td>\n",
              "      <td>A5</td>\n",
              "      <td>510000</td>\n",
              "      <td>04/30/2019</td>\n",
              "    </tr>\n",
              "  </tbody>\n",
              "</table>\n",
              "<p>3151 rows × 20 columns</p>\n",
              "</div>"
            ],
            "text/plain": [
              "      BOROUGH NEIGHBORHOOD  ... SALE_PRICE   SALE_DATE\n",
              "44          3        OTHER  ...     550000  01/01/2019\n",
              "61          4        OTHER  ...     200000  01/01/2019\n",
              "78          2        OTHER  ...     810000  01/02/2019\n",
              "108         3        OTHER  ...     125000  01/02/2019\n",
              "111         3        OTHER  ...     620000  01/02/2019\n",
              "...       ...          ...  ...        ...         ...\n",
              "23029       4        OTHER  ...     635000  04/30/2019\n",
              "23031       4        OTHER  ...     514000  04/30/2019\n",
              "23032       4        OTHER  ...     635000  04/30/2019\n",
              "23033       4        OTHER  ...     545000  04/30/2019\n",
              "23035       4        OTHER  ...     510000  04/30/2019\n",
              "\n",
              "[3151 rows x 20 columns]"
            ]
          },
          "metadata": {
            "tags": []
          },
          "execution_count": 42
        }
      ]
    },
    {
      "cell_type": "code",
      "metadata": {
        "id": "iUYxy5LCpnmp",
        "colab_type": "code",
        "colab": {}
      },
      "source": [
        "# Objective 2: Do train/test split. Use data from January — March 2019 to train. Use data from April 2019 to test."
      ],
      "execution_count": 0,
      "outputs": []
    },
    {
      "cell_type": "code",
      "metadata": {
        "id": "6b2knQLOp5A1",
        "colab_type": "code",
        "colab": {
          "base_uri": "https://localhost:8080/",
          "height": 119
        },
        "outputId": "ed2f1702-a86a-4938-f9d0-fa3b35721a4f"
      },
      "source": [
        "df2['SALE_DATE'] = pd.to_datetime(df2['SALE_DATE'], infer_datetime_format=True)\n",
        "mask1 = (df2['SALE_DATE'] >= '2019-01-01') & (df2['SALE_DATE'] < '2019-04-01')\n",
        "mask2 = (df2['SALE_DATE'] >= '2019-04-01') & (df2['SALE_DATE'] < '2019-05-01')\n",
        "train = df2[mask1]\n",
        "test  = df2[mask2]"
      ],
      "execution_count": 44,
      "outputs": [
        {
          "output_type": "stream",
          "text": [
            "/usr/local/lib/python3.6/dist-packages/ipykernel_launcher.py:1: SettingWithCopyWarning: \n",
            "A value is trying to be set on a copy of a slice from a DataFrame.\n",
            "Try using .loc[row_indexer,col_indexer] = value instead\n",
            "\n",
            "See the caveats in the documentation: http://pandas.pydata.org/pandas-docs/stable/user_guide/indexing.html#returning-a-view-versus-a-copy\n",
            "  \"\"\"Entry point for launching an IPython kernel.\n"
          ],
          "name": "stderr"
        }
      ]
    },
    {
      "cell_type": "code",
      "metadata": {
        "id": "e7Ctjjf3Mq59",
        "colab_type": "code",
        "outputId": "56e8fc2c-154b-4248-a600-c2a11fd8c1c2",
        "colab": {
          "base_uri": "https://localhost:8080/",
          "height": 359
        }
      },
      "source": [
        "train.describe(exclude='number').T.sort_values(by='unique')"
      ],
      "execution_count": 45,
      "outputs": [
        {
          "output_type": "execute_result",
          "data": {
            "text/html": [
              "<div>\n",
              "<style scoped>\n",
              "    .dataframe tbody tr th:only-of-type {\n",
              "        vertical-align: middle;\n",
              "    }\n",
              "\n",
              "    .dataframe tbody tr th {\n",
              "        vertical-align: top;\n",
              "    }\n",
              "\n",
              "    .dataframe thead th {\n",
              "        text-align: right;\n",
              "    }\n",
              "</style>\n",
              "<table border=\"1\" class=\"dataframe\">\n",
              "  <thead>\n",
              "    <tr style=\"text-align: right;\">\n",
              "      <th></th>\n",
              "      <th>count</th>\n",
              "      <th>unique</th>\n",
              "      <th>top</th>\n",
              "      <th>freq</th>\n",
              "      <th>first</th>\n",
              "      <th>last</th>\n",
              "    </tr>\n",
              "  </thead>\n",
              "  <tbody>\n",
              "    <tr>\n",
              "      <th>BUILDING_CLASS_CATEGORY</th>\n",
              "      <td>2507</td>\n",
              "      <td>1</td>\n",
              "      <td>01 ONE FAMILY DWELLINGS</td>\n",
              "      <td>2507</td>\n",
              "      <td>NaT</td>\n",
              "      <td>NaT</td>\n",
              "    </tr>\n",
              "    <tr>\n",
              "      <th>APARTMENT_NUMBER</th>\n",
              "      <td>1</td>\n",
              "      <td>1</td>\n",
              "      <td>RP.</td>\n",
              "      <td>1</td>\n",
              "      <td>NaT</td>\n",
              "      <td>NaT</td>\n",
              "    </tr>\n",
              "    <tr>\n",
              "      <th>TAX_CLASS_AT_PRESENT</th>\n",
              "      <td>2507</td>\n",
              "      <td>2</td>\n",
              "      <td>1</td>\n",
              "      <td>2476</td>\n",
              "      <td>NaT</td>\n",
              "      <td>NaT</td>\n",
              "    </tr>\n",
              "    <tr>\n",
              "      <th>BOROUGH</th>\n",
              "      <td>2507</td>\n",
              "      <td>5</td>\n",
              "      <td>4</td>\n",
              "      <td>1204</td>\n",
              "      <td>NaT</td>\n",
              "      <td>NaT</td>\n",
              "    </tr>\n",
              "    <tr>\n",
              "      <th>NEIGHBORHOOD</th>\n",
              "      <td>2507</td>\n",
              "      <td>6</td>\n",
              "      <td>OTHER</td>\n",
              "      <td>2382</td>\n",
              "      <td>NaT</td>\n",
              "      <td>NaT</td>\n",
              "    </tr>\n",
              "    <tr>\n",
              "      <th>BUILDING_CLASS_AT_TIME_OF_SALE</th>\n",
              "      <td>2507</td>\n",
              "      <td>11</td>\n",
              "      <td>A1</td>\n",
              "      <td>919</td>\n",
              "      <td>NaT</td>\n",
              "      <td>NaT</td>\n",
              "    </tr>\n",
              "    <tr>\n",
              "      <th>BUILDING_CLASS_AT_PRESENT</th>\n",
              "      <td>2507</td>\n",
              "      <td>13</td>\n",
              "      <td>A1</td>\n",
              "      <td>919</td>\n",
              "      <td>NaT</td>\n",
              "      <td>NaT</td>\n",
              "    </tr>\n",
              "    <tr>\n",
              "      <th>SALE_DATE</th>\n",
              "      <td>2507</td>\n",
              "      <td>68</td>\n",
              "      <td>2019-01-31 00:00:00</td>\n",
              "      <td>78</td>\n",
              "      <td>2019-01-01</td>\n",
              "      <td>2019-03-30</td>\n",
              "    </tr>\n",
              "    <tr>\n",
              "      <th>LAND_SQUARE_FEET</th>\n",
              "      <td>2507</td>\n",
              "      <td>887</td>\n",
              "      <td>4,000</td>\n",
              "      <td>234</td>\n",
              "      <td>NaT</td>\n",
              "      <td>NaT</td>\n",
              "    </tr>\n",
              "    <tr>\n",
              "      <th>ADDRESS</th>\n",
              "      <td>2507</td>\n",
              "      <td>2497</td>\n",
              "      <td>294 FREEBORN STREET</td>\n",
              "      <td>2</td>\n",
              "      <td>NaT</td>\n",
              "      <td>NaT</td>\n",
              "    </tr>\n",
              "  </tbody>\n",
              "</table>\n",
              "</div>"
            ],
            "text/plain": [
              "                               count unique  ...      first       last\n",
              "BUILDING_CLASS_CATEGORY         2507      1  ...        NaT        NaT\n",
              "APARTMENT_NUMBER                   1      1  ...        NaT        NaT\n",
              "TAX_CLASS_AT_PRESENT            2507      2  ...        NaT        NaT\n",
              "BOROUGH                         2507      5  ...        NaT        NaT\n",
              "NEIGHBORHOOD                    2507      6  ...        NaT        NaT\n",
              "BUILDING_CLASS_AT_TIME_OF_SALE  2507     11  ...        NaT        NaT\n",
              "BUILDING_CLASS_AT_PRESENT       2507     13  ...        NaT        NaT\n",
              "SALE_DATE                       2507     68  ... 2019-01-01 2019-03-30\n",
              "LAND_SQUARE_FEET                2507    887  ...        NaT        NaT\n",
              "ADDRESS                         2507   2497  ...        NaT        NaT\n",
              "\n",
              "[10 rows x 6 columns]"
            ]
          },
          "metadata": {
            "tags": []
          },
          "execution_count": 45
        }
      ]
    },
    {
      "cell_type": "code",
      "metadata": {
        "id": "bkH1M-4hpvaz",
        "colab_type": "code",
        "colab": {}
      },
      "source": [
        "# Objectvie 3: Do one-hot encoding of categorical features."
      ],
      "execution_count": 0,
      "outputs": []
    },
    {
      "cell_type": "code",
      "metadata": {
        "id": "8AvRKAPVPWjs",
        "colab_type": "code",
        "colab": {}
      },
      "source": [
        "target = 'SALE_PRICE'\n",
        "high_cardinality = ['ADDRESS', 'LAND_SQUARE_FEET', 'APARTMENT_NUMBER', \n",
        "                    'BUILDING_CLASS_AT_TIME_OF_SALE', \n",
        "                    'BUILDING_CLASS_AT_PRESENT', 'SALE_DATE', \n",
        "                    'BUILDING_CLASS_CATEGORY', 'NEIGHBORHOOD', \n",
        "                    'TAX_CLASS_AT_PRESENT', 'BOROUGH']\n",
        "features = train.columns.drop([target] + high_cardinality)"
      ],
      "execution_count": 0,
      "outputs": []
    },
    {
      "cell_type": "code",
      "metadata": {
        "id": "6yAuQ0c3jIfA",
        "colab_type": "code",
        "colab": {}
      },
      "source": [
        "X_train = train[features]\n",
        "y_train = train[target]\n",
        "X_test = test[features]\n",
        "y_test = test[target]"
      ],
      "execution_count": 0,
      "outputs": []
    },
    {
      "cell_type": "code",
      "metadata": {
        "id": "xqEE0lZ_jakp",
        "colab_type": "code",
        "colab": {}
      },
      "source": [
        "encoder = ce.OneHotEncoder(use_cat_names=True)\n",
        "X_train = encoder.fit_transform(X_train)"
      ],
      "execution_count": 0,
      "outputs": []
    },
    {
      "cell_type": "code",
      "metadata": {
        "id": "-v7DiUp7jndV",
        "colab_type": "code",
        "colab": {}
      },
      "source": [
        "X_test = encoder.transform(X_test)"
      ],
      "execution_count": 0,
      "outputs": []
    },
    {
      "cell_type": "code",
      "metadata": {
        "id": "dc2AbANHp32o",
        "colab_type": "code",
        "colab": {}
      },
      "source": [
        "# Objective 4: Do feature selection with SelectKBest."
      ],
      "execution_count": 0,
      "outputs": []
    },
    {
      "cell_type": "code",
      "metadata": {
        "id": "yVyHS75XpdYV",
        "colab_type": "code",
        "outputId": "a805e4c3-4597-4162-ca01-f46d13cb47d7",
        "colab": {
          "base_uri": "https://localhost:8080/",
          "height": 374
        }
      },
      "source": [
        "df.isna().sum()"
      ],
      "execution_count": 52,
      "outputs": [
        {
          "output_type": "execute_result",
          "data": {
            "text/plain": [
              "BOROUGH                               0\n",
              "NEIGHBORHOOD                          0\n",
              "BUILDING_CLASS_CATEGORY               0\n",
              "TAX_CLASS_AT_PRESENT                  1\n",
              "BLOCK                                 0\n",
              "LOT                                   0\n",
              "BUILDING_CLASS_AT_PRESENT             1\n",
              "ADDRESS                               0\n",
              "APARTMENT_NUMBER                  17839\n",
              "ZIP_CODE                              0\n",
              "RESIDENTIAL_UNITS                     0\n",
              "COMMERCIAL_UNITS                      0\n",
              "TOTAL_UNITS                           0\n",
              "LAND_SQUARE_FEET                     53\n",
              "GROSS_SQUARE_FEET                     0\n",
              "YEAR_BUILT                            0\n",
              "TAX_CLASS_AT_TIME_OF_SALE             0\n",
              "BUILDING_CLASS_AT_TIME_OF_SALE        0\n",
              "SALE_PRICE                            0\n",
              "SALE_DATE                             0\n",
              "dtype: int64"
            ]
          },
          "metadata": {
            "tags": []
          },
          "execution_count": 52
        }
      ]
    },
    {
      "cell_type": "code",
      "metadata": {
        "id": "iGlopAaFp3uX",
        "colab_type": "code",
        "outputId": "760664b8-77f5-404b-bfec-ecb70b443878",
        "colab": {
          "base_uri": "https://localhost:8080/",
          "height": 204
        }
      },
      "source": [
        "selector = SelectKBest(score_func=f_regression, k=9)\n",
        "X_train_selected = selector.fit_transform(X_train, y_train)\n",
        "X_test_selected = selector.transform(X_test)\n",
        "X_train_selected.shape, X_test_selected.shape"
      ],
      "execution_count": 53,
      "outputs": [
        {
          "output_type": "stream",
          "text": [
            "/usr/local/lib/python3.6/dist-packages/sklearn/feature_selection/univariate_selection.py:299: RuntimeWarning: divide by zero encountered in true_divide\n",
            "  corr /= X_norms\n",
            "/usr/local/lib/python3.6/dist-packages/sklearn/feature_selection/univariate_selection.py:304: RuntimeWarning: invalid value encountered in true_divide\n",
            "  F = corr ** 2 / (1 - corr ** 2) * degrees_of_freedom\n",
            "/usr/local/lib/python3.6/dist-packages/scipy/stats/_distn_infrastructure.py:901: RuntimeWarning: invalid value encountered in greater\n",
            "  return (a < x) & (x < b)\n",
            "/usr/local/lib/python3.6/dist-packages/scipy/stats/_distn_infrastructure.py:901: RuntimeWarning: invalid value encountered in less\n",
            "  return (a < x) & (x < b)\n",
            "/usr/local/lib/python3.6/dist-packages/scipy/stats/_distn_infrastructure.py:1892: RuntimeWarning: invalid value encountered in less_equal\n",
            "  cond2 = cond0 & (x <= _a)\n"
          ],
          "name": "stderr"
        },
        {
          "output_type": "execute_result",
          "data": {
            "text/plain": [
              "((2507, 9), (644, 9))"
            ]
          },
          "metadata": {
            "tags": []
          },
          "execution_count": 53
        }
      ]
    },
    {
      "cell_type": "code",
      "metadata": {
        "id": "KdkMJNFQsXpH",
        "colab_type": "code",
        "outputId": "111511d4-2405-4e62-86d6-12b47ba2aef2",
        "colab": {
          "base_uri": "https://localhost:8080/",
          "height": 238
        }
      },
      "source": [
        "all_names = X_train.columns\n",
        "selected_mask = selector.get_support()\n",
        "selected_names = all_names[selected_mask]\n",
        "unselected_names = all_names[~selected_mask]\n",
        "\n",
        "print('Features selected:')\n",
        "for name in selected_names:\n",
        "    print(name)\n",
        "\n",
        "print('\\n')\n",
        "print('Features not selected:')\n",
        "for name in unselected_names:\n",
        "    print(name)"
      ],
      "execution_count": 54,
      "outputs": [
        {
          "output_type": "stream",
          "text": [
            "Features selected:\n",
            "BLOCK\n",
            "LOT\n",
            "ZIP_CODE\n",
            "RESIDENTIAL_UNITS\n",
            "COMMERCIAL_UNITS\n",
            "TOTAL_UNITS\n",
            "GROSS_SQUARE_FEET\n",
            "YEAR_BUILT\n",
            "TAX_CLASS_AT_TIME_OF_SALE\n",
            "\n",
            "\n",
            "Features not selected:\n"
          ],
          "name": "stdout"
        }
      ]
    },
    {
      "cell_type": "code",
      "metadata": {
        "id": "-8YCExZosfux",
        "colab_type": "code",
        "outputId": "c7272591-8519-4c1a-8a86-37599b2dfcf2",
        "colab": {
          "base_uri": "https://localhost:8080/",
          "height": 1000
        }
      },
      "source": [
        "for k in range(1, len(X_train.columns)+1):\n",
        "    print(f'{k} features')\n",
        "\n",
        "    selector = SelectKBest(score_func=f_regression, k=k)\n",
        "    X_train_selected = selector.fit_transform(X_train, y_train)\n",
        "    X_test_selected = selector.transform(X_test)\n",
        "\n",
        "    model = LinearRegression()\n",
        "    model.fit(X_train_selected, y_train)\n",
        "    y_pred = model.predict(X_test_selected)\n",
        "\n",
        "    mae = mean_absolute_error(y_test, y_pred)\n",
        "    print(f'Test MAE: ${mae:,.0f} \\n')"
      ],
      "execution_count": 55,
      "outputs": [
        {
          "output_type": "stream",
          "text": [
            "1 features\n",
            "Test MAE: $183,641 \n",
            "\n",
            "2 features\n",
            "Test MAE: $184,003 \n",
            "\n",
            "3 features\n",
            "Test MAE: $183,943 \n",
            "\n",
            "4 features\n",
            "Test MAE: $167,050 \n",
            "\n",
            "5 features\n",
            "Test MAE: $167,908 \n",
            "\n",
            "6 features\n",
            "Test MAE: $167,908 \n",
            "\n",
            "7 features\n",
            "Test MAE: $167,913 \n",
            "\n",
            "8 features\n",
            "Test MAE: $167,705 \n",
            "\n",
            "9 features\n",
            "Test MAE: $167,705 \n",
            "\n"
          ],
          "name": "stdout"
        },
        {
          "output_type": "stream",
          "text": [
            "/usr/local/lib/python3.6/dist-packages/sklearn/feature_selection/univariate_selection.py:299: RuntimeWarning: divide by zero encountered in true_divide\n",
            "  corr /= X_norms\n",
            "/usr/local/lib/python3.6/dist-packages/sklearn/feature_selection/univariate_selection.py:304: RuntimeWarning: invalid value encountered in true_divide\n",
            "  F = corr ** 2 / (1 - corr ** 2) * degrees_of_freedom\n",
            "/usr/local/lib/python3.6/dist-packages/scipy/stats/_distn_infrastructure.py:901: RuntimeWarning: invalid value encountered in greater\n",
            "  return (a < x) & (x < b)\n",
            "/usr/local/lib/python3.6/dist-packages/scipy/stats/_distn_infrastructure.py:901: RuntimeWarning: invalid value encountered in less\n",
            "  return (a < x) & (x < b)\n",
            "/usr/local/lib/python3.6/dist-packages/scipy/stats/_distn_infrastructure.py:1892: RuntimeWarning: invalid value encountered in less_equal\n",
            "  cond2 = cond0 & (x <= _a)\n",
            "/usr/local/lib/python3.6/dist-packages/sklearn/feature_selection/univariate_selection.py:299: RuntimeWarning: divide by zero encountered in true_divide\n",
            "  corr /= X_norms\n",
            "/usr/local/lib/python3.6/dist-packages/sklearn/feature_selection/univariate_selection.py:304: RuntimeWarning: invalid value encountered in true_divide\n",
            "  F = corr ** 2 / (1 - corr ** 2) * degrees_of_freedom\n",
            "/usr/local/lib/python3.6/dist-packages/scipy/stats/_distn_infrastructure.py:901: RuntimeWarning: invalid value encountered in greater\n",
            "  return (a < x) & (x < b)\n",
            "/usr/local/lib/python3.6/dist-packages/scipy/stats/_distn_infrastructure.py:901: RuntimeWarning: invalid value encountered in less\n",
            "  return (a < x) & (x < b)\n",
            "/usr/local/lib/python3.6/dist-packages/scipy/stats/_distn_infrastructure.py:1892: RuntimeWarning: invalid value encountered in less_equal\n",
            "  cond2 = cond0 & (x <= _a)\n",
            "/usr/local/lib/python3.6/dist-packages/sklearn/feature_selection/univariate_selection.py:299: RuntimeWarning: divide by zero encountered in true_divide\n",
            "  corr /= X_norms\n",
            "/usr/local/lib/python3.6/dist-packages/sklearn/feature_selection/univariate_selection.py:304: RuntimeWarning: invalid value encountered in true_divide\n",
            "  F = corr ** 2 / (1 - corr ** 2) * degrees_of_freedom\n",
            "/usr/local/lib/python3.6/dist-packages/scipy/stats/_distn_infrastructure.py:901: RuntimeWarning: invalid value encountered in greater\n",
            "  return (a < x) & (x < b)\n",
            "/usr/local/lib/python3.6/dist-packages/scipy/stats/_distn_infrastructure.py:901: RuntimeWarning: invalid value encountered in less\n",
            "  return (a < x) & (x < b)\n",
            "/usr/local/lib/python3.6/dist-packages/scipy/stats/_distn_infrastructure.py:1892: RuntimeWarning: invalid value encountered in less_equal\n",
            "  cond2 = cond0 & (x <= _a)\n",
            "/usr/local/lib/python3.6/dist-packages/sklearn/feature_selection/univariate_selection.py:299: RuntimeWarning: divide by zero encountered in true_divide\n",
            "  corr /= X_norms\n",
            "/usr/local/lib/python3.6/dist-packages/sklearn/feature_selection/univariate_selection.py:304: RuntimeWarning: invalid value encountered in true_divide\n",
            "  F = corr ** 2 / (1 - corr ** 2) * degrees_of_freedom\n",
            "/usr/local/lib/python3.6/dist-packages/scipy/stats/_distn_infrastructure.py:901: RuntimeWarning: invalid value encountered in greater\n",
            "  return (a < x) & (x < b)\n",
            "/usr/local/lib/python3.6/dist-packages/scipy/stats/_distn_infrastructure.py:901: RuntimeWarning: invalid value encountered in less\n",
            "  return (a < x) & (x < b)\n",
            "/usr/local/lib/python3.6/dist-packages/scipy/stats/_distn_infrastructure.py:1892: RuntimeWarning: invalid value encountered in less_equal\n",
            "  cond2 = cond0 & (x <= _a)\n",
            "/usr/local/lib/python3.6/dist-packages/sklearn/feature_selection/univariate_selection.py:299: RuntimeWarning: divide by zero encountered in true_divide\n",
            "  corr /= X_norms\n",
            "/usr/local/lib/python3.6/dist-packages/sklearn/feature_selection/univariate_selection.py:304: RuntimeWarning: invalid value encountered in true_divide\n",
            "  F = corr ** 2 / (1 - corr ** 2) * degrees_of_freedom\n",
            "/usr/local/lib/python3.6/dist-packages/scipy/stats/_distn_infrastructure.py:901: RuntimeWarning: invalid value encountered in greater\n",
            "  return (a < x) & (x < b)\n",
            "/usr/local/lib/python3.6/dist-packages/scipy/stats/_distn_infrastructure.py:901: RuntimeWarning: invalid value encountered in less\n",
            "  return (a < x) & (x < b)\n",
            "/usr/local/lib/python3.6/dist-packages/scipy/stats/_distn_infrastructure.py:1892: RuntimeWarning: invalid value encountered in less_equal\n",
            "  cond2 = cond0 & (x <= _a)\n",
            "/usr/local/lib/python3.6/dist-packages/sklearn/feature_selection/univariate_selection.py:299: RuntimeWarning: divide by zero encountered in true_divide\n",
            "  corr /= X_norms\n",
            "/usr/local/lib/python3.6/dist-packages/sklearn/feature_selection/univariate_selection.py:304: RuntimeWarning: invalid value encountered in true_divide\n",
            "  F = corr ** 2 / (1 - corr ** 2) * degrees_of_freedom\n",
            "/usr/local/lib/python3.6/dist-packages/scipy/stats/_distn_infrastructure.py:901: RuntimeWarning: invalid value encountered in greater\n",
            "  return (a < x) & (x < b)\n",
            "/usr/local/lib/python3.6/dist-packages/scipy/stats/_distn_infrastructure.py:901: RuntimeWarning: invalid value encountered in less\n",
            "  return (a < x) & (x < b)\n",
            "/usr/local/lib/python3.6/dist-packages/scipy/stats/_distn_infrastructure.py:1892: RuntimeWarning: invalid value encountered in less_equal\n",
            "  cond2 = cond0 & (x <= _a)\n",
            "/usr/local/lib/python3.6/dist-packages/sklearn/feature_selection/univariate_selection.py:299: RuntimeWarning: divide by zero encountered in true_divide\n",
            "  corr /= X_norms\n",
            "/usr/local/lib/python3.6/dist-packages/sklearn/feature_selection/univariate_selection.py:304: RuntimeWarning: invalid value encountered in true_divide\n",
            "  F = corr ** 2 / (1 - corr ** 2) * degrees_of_freedom\n",
            "/usr/local/lib/python3.6/dist-packages/scipy/stats/_distn_infrastructure.py:901: RuntimeWarning: invalid value encountered in greater\n",
            "  return (a < x) & (x < b)\n",
            "/usr/local/lib/python3.6/dist-packages/scipy/stats/_distn_infrastructure.py:901: RuntimeWarning: invalid value encountered in less\n",
            "  return (a < x) & (x < b)\n",
            "/usr/local/lib/python3.6/dist-packages/scipy/stats/_distn_infrastructure.py:1892: RuntimeWarning: invalid value encountered in less_equal\n",
            "  cond2 = cond0 & (x <= _a)\n",
            "/usr/local/lib/python3.6/dist-packages/sklearn/feature_selection/univariate_selection.py:299: RuntimeWarning: divide by zero encountered in true_divide\n",
            "  corr /= X_norms\n",
            "/usr/local/lib/python3.6/dist-packages/sklearn/feature_selection/univariate_selection.py:304: RuntimeWarning: invalid value encountered in true_divide\n",
            "  F = corr ** 2 / (1 - corr ** 2) * degrees_of_freedom\n",
            "/usr/local/lib/python3.6/dist-packages/scipy/stats/_distn_infrastructure.py:901: RuntimeWarning: invalid value encountered in greater\n",
            "  return (a < x) & (x < b)\n",
            "/usr/local/lib/python3.6/dist-packages/scipy/stats/_distn_infrastructure.py:901: RuntimeWarning: invalid value encountered in less\n",
            "  return (a < x) & (x < b)\n",
            "/usr/local/lib/python3.6/dist-packages/scipy/stats/_distn_infrastructure.py:1892: RuntimeWarning: invalid value encountered in less_equal\n",
            "  cond2 = cond0 & (x <= _a)\n",
            "/usr/local/lib/python3.6/dist-packages/sklearn/feature_selection/univariate_selection.py:299: RuntimeWarning: divide by zero encountered in true_divide\n",
            "  corr /= X_norms\n",
            "/usr/local/lib/python3.6/dist-packages/sklearn/feature_selection/univariate_selection.py:304: RuntimeWarning: invalid value encountered in true_divide\n",
            "  F = corr ** 2 / (1 - corr ** 2) * degrees_of_freedom\n",
            "/usr/local/lib/python3.6/dist-packages/scipy/stats/_distn_infrastructure.py:901: RuntimeWarning: invalid value encountered in greater\n",
            "  return (a < x) & (x < b)\n",
            "/usr/local/lib/python3.6/dist-packages/scipy/stats/_distn_infrastructure.py:901: RuntimeWarning: invalid value encountered in less\n",
            "  return (a < x) & (x < b)\n",
            "/usr/local/lib/python3.6/dist-packages/scipy/stats/_distn_infrastructure.py:1892: RuntimeWarning: invalid value encountered in less_equal\n",
            "  cond2 = cond0 & (x <= _a)\n"
          ],
          "name": "stderr"
        }
      ]
    },
    {
      "cell_type": "code",
      "metadata": {
        "id": "hNPccXGlp3lZ",
        "colab_type": "code",
        "colab": {}
      },
      "source": [
        "# Objective 5: Fit a ridge regression model with multiple features. \n",
        "# Use the normalize=True parameter (or do feature scaling beforehand — \n",
        "# use the scaler's fit_transform method with the train set, and the scaler's transform method with the test set)"
      ],
      "execution_count": 0,
      "outputs": []
    },
    {
      "cell_type": "code",
      "metadata": {
        "id": "H6qFL_xNtcNw",
        "colab_type": "code",
        "colab": {}
      },
      "source": [
        "import seaborn as sns\n",
        "anscombe = sns.load_dataset('anscombe').query('dataset==\"III\"')"
      ],
      "execution_count": 0,
      "outputs": []
    },
    {
      "cell_type": "code",
      "metadata": {
        "id": "Jul43N6Ep3cX",
        "colab_type": "code",
        "colab": {}
      },
      "source": [
        "alphas = [0.01, 0.1, 1.0, 10.0, 100.0]"
      ],
      "execution_count": 0,
      "outputs": []
    },
    {
      "cell_type": "code",
      "metadata": {
        "id": "9vSvetZ2tPFK",
        "colab_type": "code",
        "outputId": "338f9a68-14cf-4839-c0fd-0f4d59079082",
        "colab": {
          "base_uri": "https://localhost:8080/",
          "height": 34
        }
      },
      "source": [
        "from sklearn.linear_model import RidgeCV\n",
        "ridge = RidgeCV(alphas=alphas, normalize=True)\n",
        "ridge.fit(anscombe[['x']], anscombe['y'])\n",
        "ridge.alpha_"
      ],
      "execution_count": 59,
      "outputs": [
        {
          "output_type": "execute_result",
          "data": {
            "text/plain": [
              "0.1"
            ]
          },
          "metadata": {
            "tags": []
          },
          "execution_count": 59
        }
      ]
    },
    {
      "cell_type": "code",
      "metadata": {
        "colab_type": "code",
        "id": "T9BV5eY-yhO6",
        "colab": {}
      },
      "source": [
        "import matplotlib.pyplot as plt\n",
        "\n",
        "# Plot data\n",
        "ax = anscombe.plot.scatter('x', 'y')\n",
        "\n",
        "# Get linear equation\n",
        "m = ridge.coef_[0].round(2)\n",
        "b = ridge.intercept_.round(2)\n",
        "title = f'Ridge Regression, alpha={ridge.alpha_} \\n y = {m}x + {b}'\n",
        "\n",
        "# Get predictions\n",
        "anscombe['y_pred'] = ridge.predict(anscombe[['x']])\n",
        "\n",
        "# Plot predictions\n",
        "anscombe.plot('x', 'y_pred', ax=ax, title=title)\n",
        "plt.show()"
      ],
      "execution_count": 0,
      "outputs": []
    },
    {
      "cell_type": "code",
      "metadata": {
        "id": "XBOZW2PvwsFd",
        "colab_type": "code",
        "outputId": "8e4763d7-ea11-44bb-d437-298ee568517d",
        "colab": {
          "base_uri": "https://localhost:8080/",
          "height": 221
        }
      },
      "source": [
        "from IPython.display import display, HTML\n",
        "\n",
        "# Try a range of alpha parameters for Ridge Regression.\n",
        "\n",
        "# The scikit-learn docs explain, \n",
        "# alpha : Regularization strength; must be a positive float. Regularization \n",
        "# improves the conditioning of the problem and reduces the variance of the \n",
        "# estimates. Larger values specify stronger regularization.\n",
        "# https://scikit-learn.org/stable/modules/generated/sklearn.linear_model.Ridge.html\n",
        "\n",
        "for alpha in [0.001, 0.01, 0.1, 1.0, 10.0, 100.0]:\n",
        "    \n",
        "    # Fit Ridge Regression model\n",
        "    feature = 'GROSS_SQUARE_FEET'\n",
        "    display(HTML(f'Ridge Regression, with alpha={alpha}'))\n",
        "    model = RidgeCV(alphas=(.001, .01, .1, 1, 10, 100), normalize=True)\n",
        "    model.fit(X_train[[feature]], y_train)\n",
        "    \n",
        "    # Get Test MAE\n",
        "    y_pred = model.predict(X_test[[feature]])\n",
        "    mae = mean_absolute_error(y_test, y_pred)\n",
        "    display(HTML(f'Test Mean Absolute Error: ${mae:,.0f}'))\n",
        "    \n",
        "    train.plot.scatter(feature, target, alpha=0.05)\n",
        "    plt.plot(X_test[feature], y_pred)\n",
        "    plt.show()"
      ],
      "execution_count": 61,
      "outputs": [
        {
          "output_type": "display_data",
          "data": {
            "text/html": [
              "Ridge Regression, with alpha=0.001"
            ],
            "text/plain": [
              "<IPython.core.display.HTML object>"
            ]
          },
          "metadata": {
            "tags": []
          }
        },
        {
          "output_type": "display_data",
          "data": {
            "text/html": [
              "Test Mean Absolute Error: $183,714"
            ],
            "text/plain": [
              "<IPython.core.display.HTML object>"
            ]
          },
          "metadata": {
            "tags": []
          }
        },
        {
          "output_type": "display_data",
          "data": {
            "text/html": [
              "Ridge Regression, with alpha=0.01"
            ],
            "text/plain": [
              "<IPython.core.display.HTML object>"
            ]
          },
          "metadata": {
            "tags": []
          }
        },
        {
          "output_type": "display_data",
          "data": {
            "text/html": [
              "Test Mean Absolute Error: $183,714"
            ],
            "text/plain": [
              "<IPython.core.display.HTML object>"
            ]
          },
          "metadata": {
            "tags": []
          }
        },
        {
          "output_type": "display_data",
          "data": {
            "text/html": [
              "Ridge Regression, with alpha=0.1"
            ],
            "text/plain": [
              "<IPython.core.display.HTML object>"
            ]
          },
          "metadata": {
            "tags": []
          }
        },
        {
          "output_type": "display_data",
          "data": {
            "text/html": [
              "Test Mean Absolute Error: $183,714"
            ],
            "text/plain": [
              "<IPython.core.display.HTML object>"
            ]
          },
          "metadata": {
            "tags": []
          }
        },
        {
          "output_type": "display_data",
          "data": {
            "text/html": [
              "Ridge Regression, with alpha=1.0"
            ],
            "text/plain": [
              "<IPython.core.display.HTML object>"
            ]
          },
          "metadata": {
            "tags": []
          }
        },
        {
          "output_type": "display_data",
          "data": {
            "text/html": [
              "Test Mean Absolute Error: $183,714"
            ],
            "text/plain": [
              "<IPython.core.display.HTML object>"
            ]
          },
          "metadata": {
            "tags": []
          }
        },
        {
          "output_type": "display_data",
          "data": {
            "text/html": [
              "Ridge Regression, with alpha=10.0"
            ],
            "text/plain": [
              "<IPython.core.display.HTML object>"
            ]
          },
          "metadata": {
            "tags": []
          }
        },
        {
          "output_type": "display_data",
          "data": {
            "text/html": [
              "Test Mean Absolute Error: $183,714"
            ],
            "text/plain": [
              "<IPython.core.display.HTML object>"
            ]
          },
          "metadata": {
            "tags": []
          }
        },
        {
          "output_type": "display_data",
          "data": {
            "text/html": [
              "Ridge Regression, with alpha=100.0"
            ],
            "text/plain": [
              "<IPython.core.display.HTML object>"
            ]
          },
          "metadata": {
            "tags": []
          }
        },
        {
          "output_type": "display_data",
          "data": {
            "text/html": [
              "Test Mean Absolute Error: $183,714"
            ],
            "text/plain": [
              "<IPython.core.display.HTML object>"
            ]
          },
          "metadata": {
            "tags": []
          }
        }
      ]
    },
    {
      "cell_type": "code",
      "metadata": {
        "id": "1Rz15lQRtyOx",
        "colab_type": "code",
        "outputId": "2da1a1e6-e3b8-4d86-db46-03142dea4cb7",
        "colab": {
          "base_uri": "https://localhost:8080/",
          "height": 255
        }
      },
      "source": [
        "for alpha in [0.001, 0.01, 0.1, 1.0, 1, 100.0, 1000.0]:\n",
        "    \n",
        "    # Fit Ridge Regression model\n",
        "    display((f'Ridge Regression, with alpha={alpha}'))\n",
        "    model = RidgeCV(alphas=(.001, .01, .1, 1, 10, 100), normalize=True)\n",
        "    model.fit(X_train, y_train)\n",
        "    y_pred = model.predict(X_test)\n",
        "\n",
        "    # Get Test MAE\n",
        "    mae = mean_absolute_error(y_test, y_pred)\n",
        "    # display(HTML(f'Test Mean Absolute Error: ${mae:,.0f}'))\n",
        "    print(f'Test Mean Absolute Error: ${mae:,.0f}')\n",
        "    \n",
        "    # Plot coefficients\n",
        "    coefficients = pd.Series(model.coef_, X_train.columns)\n",
        "    plt.figure(figsize=(16,8))\n",
        "    coefficients.sort_values().plot.barh(color='grey')\n",
        "    plt.xlim(-10000,10000)\n",
        "    plt.show()"
      ],
      "execution_count": 62,
      "outputs": [
        {
          "output_type": "display_data",
          "data": {
            "text/plain": [
              "'Ridge Regression, with alpha=0.001'"
            ]
          },
          "metadata": {
            "tags": []
          }
        },
        {
          "output_type": "stream",
          "text": [
            "Test Mean Absolute Error: $167,681\n"
          ],
          "name": "stdout"
        },
        {
          "output_type": "display_data",
          "data": {
            "text/plain": [
              "'Ridge Regression, with alpha=0.01'"
            ]
          },
          "metadata": {
            "tags": []
          }
        },
        {
          "output_type": "stream",
          "text": [
            "Test Mean Absolute Error: $167,681\n"
          ],
          "name": "stdout"
        },
        {
          "output_type": "display_data",
          "data": {
            "text/plain": [
              "'Ridge Regression, with alpha=0.1'"
            ]
          },
          "metadata": {
            "tags": []
          }
        },
        {
          "output_type": "stream",
          "text": [
            "Test Mean Absolute Error: $167,681\n"
          ],
          "name": "stdout"
        },
        {
          "output_type": "display_data",
          "data": {
            "text/plain": [
              "'Ridge Regression, with alpha=1.0'"
            ]
          },
          "metadata": {
            "tags": []
          }
        },
        {
          "output_type": "stream",
          "text": [
            "Test Mean Absolute Error: $167,681\n"
          ],
          "name": "stdout"
        },
        {
          "output_type": "display_data",
          "data": {
            "text/plain": [
              "'Ridge Regression, with alpha=1'"
            ]
          },
          "metadata": {
            "tags": []
          }
        },
        {
          "output_type": "stream",
          "text": [
            "Test Mean Absolute Error: $167,681\n"
          ],
          "name": "stdout"
        },
        {
          "output_type": "display_data",
          "data": {
            "text/plain": [
              "'Ridge Regression, with alpha=100.0'"
            ]
          },
          "metadata": {
            "tags": []
          }
        },
        {
          "output_type": "stream",
          "text": [
            "Test Mean Absolute Error: $167,681\n"
          ],
          "name": "stdout"
        },
        {
          "output_type": "display_data",
          "data": {
            "text/plain": [
              "'Ridge Regression, with alpha=1000.0'"
            ]
          },
          "metadata": {
            "tags": []
          }
        },
        {
          "output_type": "stream",
          "text": [
            "Test Mean Absolute Error: $167,681\n"
          ],
          "name": "stdout"
        }
      ]
    },
    {
      "cell_type": "code",
      "metadata": {
        "id": "f38C53gRsWjo",
        "colab_type": "code",
        "colab": {}
      },
      "source": [
        "# Objective 6: Get mean absolute error for the test set."
      ],
      "execution_count": 0,
      "outputs": []
    },
    {
      "cell_type": "code",
      "metadata": {
        "id": "GKePFkFxsWXv",
        "colab_type": "code",
        "colab": {}
      },
      "source": [
        ""
      ],
      "execution_count": 0,
      "outputs": []
    }
  ]
}